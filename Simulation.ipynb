{
 "cells": [
  {
   "cell_type": "code",
   "execution_count": 53,
   "id": "e74679b8-1871-442c-8ef9-b09f3a7db10f",
   "metadata": {},
   "outputs": [],
   "source": [
    "import numpy as np\n",
    "import random\n",
    "from matplotlib import pyplot as plt"
   ]
  },
  {
   "cell_type": "code",
   "execution_count": 50,
   "id": "d74b67c9-bb78-4726-a500-3e11fda018f4",
   "metadata": {},
   "outputs": [],
   "source": [
    "class Bandit:\n",
    "    def __init__(self, horizon, K, var):\n",
    "        self.Horizon = horizon\n",
    "        self.K = K #Number of Arms\n",
    "        self.var = var\n",
    "        self.Theta = [i*0.01 for i in range(10,45,5)]\n",
    "        self.t = [0.1,0.2,0.3]\n",
    "        self.mu_ci = [0,0,0]\n",
    "        self.r = np.zeros([K,horizon], dtype = 'float')\n",
    "        self.N = np.zeros(K,dtype='int') #Initialization number of times an arm is played\n",
    "        self.reward = 0\n",
    "        self.regret = []\n",
    "    \n",
    "    def initializeRewards(self):\n",
    "        for i in range(self.K):\n",
    "            for j in range(self.Horizon):\n",
    "                self.r[i][j] = abs(random.gauss(self.mu_ci[i]+(j+1)**-self.t[i],self.var))\n",
    "                                   \n",
    "    \n",
    "    def roundRobin(self):\n",
    "        for i in range(self.K):\n",
    "            arm = i\n",
    "            self.reward += self.r[arm][int(self.N[arm])]\n",
    "            self.N[arm] += 1\n",
    "                                   \n",
    "    def mu(self, mu_mean, n, theta_star):\n",
    "        return mu_mean + (float(int(n/100)+1))**(-1*theta_star)\n",
    "                                   \n",
    "    \n",
    "    def mu_sum(self, mu_c, n, theta): #Rotting part\n",
    "        mu_t = np.zeros([len(mu_c),len(theta)])\n",
    "        #print(mu_t.shape)\n",
    "        for i in range(len(mu_c)):\n",
    "            mu_t[i,:] = mu_c[i]\n",
    "        for i in range(len(mu_c)):\n",
    "            for j in range(len(theta)):\n",
    "                for k in range(n[i]):\n",
    "                    mu_t[i][j] += self.mu(mu_c[i], k, theta[j])\n",
    "        #print(mu_t)\n",
    "        return mu_t\n",
    "                                \n",
    "    def algo(self):\n",
    "        lastRegret=0\n",
    "        r_t = np.zeros(self.K)\n",
    "        while np.sum(self.N) < self.Horizon:\n",
    "            # Estimate true reward distribution for each arm\n",
    "            r_t = [np.sum(self.r[i][:self.N[i]]) for i in range(self.K)]\n",
    "            Y_t = (r_t - self.mu_sum(self.mu_ci, self.N, self.Theta).T).T\n",
    "            theta_hat = np.argmin(np.abs(Y_t), axis = 1)\n",
    "            # Select the arm with the highest value of mu\n",
    "            arm = np.argmax([self.mu(self.mu_ci[i], self.N[i]+1, theta_hat[i]) for i in range(self.K)])\n",
    "            muOracle=[self.mu(self.mu_ci[i], self.N[i]+1, self.t[i]) for i in range(self.K)]\n",
    "            muMax=max(muOracle)\n",
    "            muExpected=muOracle[arm]\n",
    "            # Update the count for the selected arm\n",
    "            self.N[arm] += 1\n",
    "            # Get the regret for the given arm\n",
    "            self.reward += self.r[arm][self.N[arm]]\n",
    "            self.regret.append(lastRegret+muMax - muExpected)  # Use closest-to-origin approach\n",
    "            lastRegret+=muMax - muExpected\n",
    "                                   \n",
    "    def plotRegret(self):\n",
    "        plt.plot(self.regret)"
   ]
  },
  {
   "cell_type": "code",
   "execution_count": 54,
   "id": "7caace69-ea95-45fb-b326-a5606fab4433",
   "metadata": {},
   "outputs": [],
   "source": [
    "simulation = Bandit(10000, 3, 0.2)"
   ]
  },
  {
   "cell_type": "code",
   "execution_count": 55,
   "id": "179b28e3-9e8a-47db-adec-892c2d6e1afc",
   "metadata": {},
   "outputs": [
    {
     "data": {
      "image/png": "[encoded data removed]",
      "text/plain": [
       "<Figure size 432x288 with 1 Axes>"
      ]
     },
     "metadata": {
      "needs_background": "light"
     },
     "output_type": "display_data"
    }
   ],
   "source": [
    "simulation.initializeRewards()\n",
    "simulation.roundRobin()\n",
    "simulation.algo()\n",
    "simulation.plotRegret()"
   ]
  },
  {
   "cell_type": "code",
   "execution_count": null,
   "id": "55a16a7e-d99b-4cad-9070-694f2b948097",
   "metadata": {},
   "outputs": [],
   "source": []
  },
  {
   "cell_type": "code",
   "execution_count": null,
   "id": "02a27258-136b-4fa0-9145-be40b2b47435",
   "metadata": {},
   "outputs": [],
   "source": []
  }
 ],
 "metadata": {
  "kernelspec": {
   "display_name": "Python 3 (ipykernel)",
   "language": "python",
   "name": "python3"
  },
  "language_info": {
   "codemirror_mode": {
    "name": "ipython",
    "version": 3
   },
   "file_extension": ".py",
   "mimetype": "text/x-python",
   "name": "python",
   "nbconvert_exporter": "python",
   "pygments_lexer": "ipython3",
   "version": "3.10.2"
  }
 },
 "nbformat": 4,
 "nbformat_minor": 5
}
