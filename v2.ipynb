{
 "cells": [
  {
   "cell_type": "code",
   "execution_count": 127,
   "id": "519352cf-a40e-4dd6-bb0e-41ff1f5041c7",
   "metadata": {},
   "outputs": [],
   "source": [
    "import numpy as np\n",
    "import random\n",
    "from matplotlib import pyplot as plt"
   ]
  },
  {
   "cell_type": "code",
   "execution_count": 128,
   "id": "690664e2-31dc-4160-9a1f-450c4ca8bdd2",
   "metadata": {},
   "outputs": [
    {
     "data": {
      "text/plain": [
       "[<matplotlib.lines.Line2D at 0x249b4fefdf0>]"
      ]
     },
     "execution_count": 128,
     "metadata": {},
     "output_type": "execute_result"
    },
    {
     "data": {
      "image/png": "[encoded data removed]",
      "text/plain": [
       "<Figure size 432x288 with 1 Axes>"
      ]
     },
     "metadata": {
      "needs_background": "light"
     },
     "output_type": "display_data"
    }
   ],
   "source": [
    "Horizon = 10000\n",
    "K = 3 #Number of Arms\n",
    "var = 0.2\n",
    "#r = [np.random.normal(mu, var, Horizon) for mu in ] #True Reward Distribution\n",
    "Theta = [i*0.01 for i in range(10,45,5)]\n",
    "t = [0.1,0.2,0.3]\n",
    "mu_ci = [0,0,0]\n",
    "r = np.zeros([K,Horizon], dtype = 'float')\n",
    "for i in range(K):\n",
    "    for j in range(Horizon):\n",
    "        r[i][j] = abs(random.gauss(mu_ci[i]+(j+1)**-t[i],var))\n",
    "        #r[i][j] = (int(j/100)+1)**-Theta[i]\n",
    "plt.plot(r[1])"
   ]
  },
  {
   "cell_type": "code",
   "execution_count": 129,
   "id": "1d8d27bb-75b8-414f-8a8b-645bd6a4982b",
   "metadata": {},
   "outputs": [],
   "source": [
    "N = np.zeros(K,dtype='int') #Initialization"
   ]
  },
  {
   "cell_type": "code",
   "execution_count": 130,
   "id": "ad5df1b4-1038-4895-a017-dd9b3450932c",
   "metadata": {},
   "outputs": [
    {
     "name": "stdout",
     "output_type": "stream",
     "text": [
      "1.0533606837577378\n",
      "2.0589725855621896\n",
      "2.9702121827415864\n"
     ]
    }
   ],
   "source": [
    "reward = 0\n",
    "# Ramp up by playing each arm once and updating the counts\n",
    "for i in range(K):\n",
    "    arm = i\n",
    "    reward += r[arm][int(N[arm])]\n",
    "    print(reward)\n",
    "    N[arm] += 1"
   ]
  },
  {
   "cell_type": "code",
   "execution_count": 131,
   "id": "523a3e9e-16db-443f-9e4b-81f4f828fd1e",
   "metadata": {},
   "outputs": [
    {
     "name": "stdout",
     "output_type": "stream",
     "text": [
      "2.9702121827415864\n"
     ]
    }
   ],
   "source": [
    "print(reward)"
   ]
  },
  {
   "cell_type": "code",
   "execution_count": 132,
   "id": "db7810ea-c4c1-4f20-bf37-23bd4ee3b6db",
   "metadata": {},
   "outputs": [],
   "source": [
    "def mu(mu_mean, n, theta_star):\n",
    "    return mu_mean + (float(int(n/100)+1))**(-1*theta_star)"
   ]
  },
  {
   "cell_type": "code",
   "execution_count": 133,
   "id": "13a6f199-da41-416d-ae3f-781708c61283",
   "metadata": {},
   "outputs": [],
   "source": [
    "def mu_sum(mu_c, n, theta): #Rotting part\n",
    "    mu_t = np.zeros([len(mu_c),len(theta)])\n",
    "    #print(mu_t.shape)\n",
    "    for i in range(len(mu_c)):\n",
    "        mu_t[i,:] = mu_c[i]\n",
    "    for i in range(len(mu_c)):\n",
    "        for j in range(len(theta)):\n",
    "            for k in range(n[i]):\n",
    "                mu_t[i][j] += mu(mu_c[i], k, theta[j])\n",
    "    #print(mu_t)\n",
    "    return mu_t"
   ]
  },
  {
   "cell_type": "code",
   "execution_count": 134,
   "id": "39b46744-9b5e-4b12-8775-24a7db89a6f0",
   "metadata": {},
   "outputs": [
    {
     "name": "stdout",
     "output_type": "stream",
     "text": [
      "[[0. 1. 2. 3. 4.]\n",
      " [1. 2. 3. 4. 5.]\n",
      " [2. 3. 4. 5. 6.]]\n",
      "[[ 1.  0. -1. -2. -3.]\n",
      " [ 0. -1. -2. -3. -4.]\n",
      " [-1. -2. -3. -4. -5.]]\n",
      "[4 4 4]\n"
     ]
    }
   ],
   "source": [
    "# N = [2,4,5,6,2]\n",
    "# r_t = [np.sum(r[i][:N[i]]) for i in range(K)]\n",
    "# print(r_t)\n",
    "# print(mu_sum(mu_ci, N, Theta))\n",
    "# Y_t = (r_t - mu_sum(mu_ci, N, Theta).T).T\n",
    "# print(Y_t)\n",
    "\n",
    "X = [1,1,1,1,1]\n",
    "Y = np.zeros((5,3))\n",
    "for i in range(5):\n",
    "    for j in range(3):\n",
    "        Y[i][j]=i+j\n",
    "print(Y.T)\n",
    "print(X-Y.T)\n",
    "\n",
    "Z = np.argmin(X-Y.T, axis =1)\n",
    "print(Z)"
   ]
  },
  {
   "cell_type": "code",
   "execution_count": 135,
   "id": "34731fff-57aa-43e9-b3ab-5cb311445bce",
   "metadata": {},
   "outputs": [],
   "source": [
    "regret = []\n",
    "lastRegret=0\n",
    "i=0"
   ]
  },
  {
   "cell_type": "code",
   "execution_count": null,
   "id": "9bf34498-e3c4-4213-936d-5d0edbe67179",
   "metadata": {},
   "outputs": [],
   "source": [
    "# Running arms in Horizon\n",
    "\n",
    "while np.sum(N) < Horizon:\n",
    "    # Estimate true reward distribution for each arm\n",
    "    r_t = [np.sum(r[i][:N[i]]) for i in range(K)]\n",
    "    \n",
    "    Y_t = (r_t - mu_sum(mu_ci, N, Theta).T).T\n",
    "    \n",
    "    theta_hat = np.argmin(np.abs(Y_t), axis = 1)\n",
    "    \n",
    "    # Select the arm with the highest value of mu\n",
    "    arm = np.argmax([mu(mu_ci[i], N[i]+1, theta_hat[i]) for i in range(K)])\n",
    "    muOracle=[mu(mu_ci[i], N[i]+1, t[i]) for i in range(K)]\n",
    "    muMax=max(muOracle)\n",
    "    muExpected=muOracle[arm]\n",
    "    # Update the count for the selected arm\n",
    "    N[arm] += 1\n",
    "    \n",
    "    # Get the regret for the given arm\n",
    "    reward += r[arm][N[arm]]\n",
    "    #print(reward)\n",
    "    regret.append(lastRegret+muMax - muExpected)  # Use closest-to-origin approach\n",
    "    #regret.append(np.sum(N)*np.max(r) - np.sum(r_t) - r[arm][N[arm]])  # Use closest-to-origin approach\n",
    "    lastRegret+=muMax - muExpected\n",
    "    # Print the arm and the reward\n",
    "    # if i%100==0:\n",
    "    #     print(\"Arm:\", arm, \"Regret:\", regret[i-1])\n",
    "    i+=1"
   ]
  },
  {
   "cell_type": "code",
   "execution_count": null,
   "id": "ac23835b-9c45-4acd-9c0b-69a604e591a9",
   "metadata": {},
   "outputs": [],
   "source": [
    "print(N[0])"
   ]
  },
  {
   "cell_type": "code",
   "execution_count": null,
   "id": "c8288970-11c6-477a-8fa8-4e79e2eed17e",
   "metadata": {},
   "outputs": [],
   "source": [
    "print(N[1])"
   ]
  },
  {
   "cell_type": "code",
   "execution_count": null,
   "id": "6152fa9f-499a-4c50-ad41-0c47961d5d13",
   "metadata": {},
   "outputs": [],
   "source": [
    "print(N[2])"
   ]
  },
  {
   "cell_type": "code",
   "execution_count": null,
   "id": "00642514-b50d-4168-892a-c79b636b12ac",
   "metadata": {},
   "outputs": [],
   "source": [
    "plt.plot(regret)"
   ]
  },
  {
   "cell_type": "code",
   "execution_count": null,
   "id": "31693de2-7186-4cc1-8358-a5726ce53107",
   "metadata": {},
   "outputs": [],
   "source": []
  }
 ],
 "metadata": {
  "kernelspec": {
   "display_name": "Python 3 (ipykernel)",
   "language": "python",
   "name": "python3"
  },
  "language_info": {
   "codemirror_mode": {
    "name": "ipython",
    "version": 3
   },
   "file_extension": ".py",
   "mimetype": "text/x-python",
   "name": "python",
   "nbconvert_exporter": "python",
   "pygments_lexer": "ipython3",
   "version": "3.10.2"
  }
 },
 "nbformat": 4,
 "nbformat_minor": 5
}
